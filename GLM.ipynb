{
 "cells": [
  {
   "cell_type": "markdown",
   "metadata": {},
   "source": [
    "# Generalized Linear Model\n",
    "\n",
    "\n",
    "## Introduction\n",
    "\n",
    "Ordinary linear regression predicts the expected value of a given unknown quantity (the response variable, a random variable) as a linear combination of a set of observed values (predictors). This implies that a constant change in a predictor leads to a constant change in the response variable (i.e. a linear-response model). \n",
    "\n",
    "However, these assumptions are inappropriate for some types of response variables. For example, in cases where the response variable is expected to be always positive and varying over a wide range, constant input changes lead to geometrically varying, rather than constantly varying, output changes.\n",
    "\n",
    "Generalized linear models cover all these situations by allowing for response variables that have arbitrary distributions (rather than simply normal distributions), and for an arbitrary function of the response variable (the link function) to vary linearly with the predicted values (rather than assuming that the response itself must vary linearly)."
   ]
  },
  {
   "cell_type": "markdown",
   "metadata": {},
   "source": [
    "## Overview\n",
    "\n",
    "In a Generalized Linear Model (GLM), each outcome Y of the dependent variables is assumed to be generated from a particular distribution in an exponential family.\n",
    "\n",
    "\n",
    "**Distributions:**\n",
    "- Gaussian regression\n",
    "- Poisson regression\n",
    "- Binomial regression (classification)\n",
    "- Quasibinomial regression\n",
    "- Multinomial classification\n",
    "- Gamma regression\n",
    "- Ordinal regression\n",
    "- Negative Binomial regression\n",
    "- Tweedie distribution\n",
    "\n",
    "\\begin{align}\n",
    "E(Y) = \\mu = g^{-1}(X\\beta) \\\\\n",
    "\\end{align}\n",
    "\n",
    "where E(Y) is the expected value of Y; Xβ is the linear predictor, a linear combination of unknown parameters β; g is the link function.\n",
    "\n",
    "There are three components in generalized linear models.\n",
    "\n",
    "1. Linear predictor\n",
    "2. Link function\n",
    "        Linear Model relate to the response variable (g)\n",
    "\n",
    "3. Probability distribution\n"
   ]
  },
  {
   "cell_type": "markdown",
   "metadata": {},
   "source": [
    "> Why to use Generalized Linear Model (GLM)?\n",
    "> The relationship between X and Y does not look linear. It’s more likely to be exponential.\n",
    "The variance of Y does not look constant with regard to X. Here, the variance of Y seems to increase when X increases.\n",
    "As Y represents the number of products, it always has to be a positive integer. In other words, Y is a discrete variable. However, the normal distribution used for linear regression assumes continuous variables. This also means the prediction by linear regression can be negative. It’s not appropriate for this kind of count data."
   ]
  },
  {
   "cell_type": "markdown",
   "metadata": {},
   "source": [
    "\n",
    "\n",
    "### Resources:\n",
    "\n",
    "http://docs.h2o.ai/h2o/latest-stable/h2o-docs/data-science/glm.html\n",
    "\n",
    "https://en.wikipedia.org/wiki/Generalized_linear_model\n",
    "\n",
    "https://towardsdatascience.com/generalized-linear-models-9cbf848bb8ab\n"
   ]
  },
  {
   "cell_type": "code",
   "execution_count": null,
   "metadata": {},
   "outputs": [],
   "source": []
  }
 ],
 "metadata": {
  "kernelspec": {
   "display_name": "Python 3",
   "language": "python",
   "name": "python3"
  },
  "language_info": {
   "codemirror_mode": {
    "name": "ipython",
    "version": 3
   },
   "file_extension": ".py",
   "mimetype": "text/x-python",
   "name": "python",
   "nbconvert_exporter": "python",
   "pygments_lexer": "ipython3",
   "version": "3.6.9"
  }
 },
 "nbformat": 4,
 "nbformat_minor": 2
}
